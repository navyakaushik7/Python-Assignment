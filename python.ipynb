{
  "nbformat": 4,
  "nbformat_minor": 0,
  "metadata": {
    "colab": {
      "provenance": [],
      "authorship_tag": "ABX9TyOFCN+SIHBv4MMe7IDmDVkS",
      "include_colab_link": true
    },
    "kernelspec": {
      "name": "python3",
      "display_name": "Python 3"
    },
    "language_info": {
      "name": "python"
    }
  },
  "cells": [
    {
      "cell_type": "markdown",
      "metadata": {
        "id": "view-in-github",
        "colab_type": "text"
      },
      "source": [
        "<a href=\"https://colab.research.google.com/github/navyakaushik7/Python-Assignment/blob/main/python.ipynb\" target=\"_parent\"><img src=\"https://colab.research.google.com/assets/colab-badge.svg\" alt=\"Open In Colab\"/></a>"
      ]
    },
    {
      "cell_type": "markdown",
      "source": [
        "Q1. L is a list defined as L=[11,12,13,14].\n",
        "\n",
        "(i) WAP to add 50 and 60 to L.\n",
        "\n",
        "(ii) WAP to remove 11 and 13 from L\n",
        "\n",
        "(iii) WAP to sort L in ascending order.\n",
        "\n",
        "(iv) WAP to sort L in descending order.\n",
        "\n",
        "(v) WAP to search for 13 in L.\n",
        "\n",
        "(vi) WAP to count the number of elements present in L.\n",
        "\n",
        "(vii) WAP to sum all the elements in L.\n",
        "\n",
        "(viii) WAP to sum all ODD numbers in L.\n",
        "\n",
        "(ix) WAP to sum all EVEN numbers in L.\n",
        "\n",
        "(x) WAP to sum all PRIME numbers in L.\n",
        "\n",
        "(xi) WAP to clear all the elements in L.\n",
        "\n",
        "(xii) WAP to delete L."
      ],
      "metadata": {
        "id": "4NtT6jOSIZ68"
      }
    },
    {
      "cell_type": "code",
      "source": [
        "L=[11, 12,13, 14]\n",
        "\n",
        "# Add 50 and 60 to L\n",
        "L.append(50)\n",
        "L.append(60)\n",
        "print(\"Adding 50 and 60:\", L)\n",
        "\n",
        "# Remove 11 and 13 from L\n",
        "L.remove(11)\n",
        "L.remove(13)\n",
        "print(\"Removing 11 and 13:\", L)\n",
        "\n",
        "# Sort L in ascending order\n",
        "L.sort()\n",
        "print(\"Sorting L in ascending order:\", L)\n",
        "\n",
        "# Search for 13 in L\n",
        "if 13 in L:\n",
        "    print(\"13 found in L\")\n",
        "else:\n",
        "    print(\"13 not found in L\")\n",
        "\n",
        "# Count the number of elements in L\n",
        "print(\"Number of elements in L:\", len(L))\n",
        "\n",
        "#Sum all elements in L\n",
        "print(\"Sum of all elements:\", sum(L))\n",
        "\n",
        "#Sum all ODD numbers in L\n",
        "odd_sum= sum(x for x in L if x%2!=0)\n",
        "print(\"Sum of all odd numbers:\", odd_sum)\n",
        "\n",
        "#Sum of all EVEN numbers in L\n",
        "even_sum= sum(x for x in L if x%2==0)\n",
        "print(\"Sum of all even numbers:\", even_sum)\n",
        "\n",
        "#Sum of all PRIME numbers in L\n",
        "def is_prime(n):\n",
        "    if n <= 1:\n",
        "        return False\n",
        "    for i in range(2, int(n**0.5) + 1):\n",
        "        if n % i == 0:\n",
        "            return False\n",
        "    return True\n"
      ],
      "metadata": {
        "colab": {
          "base_uri": "https://localhost:8080/"
        },
        "id": "OybYJUG7JSiU",
        "outputId": "f6cd2f1a-b00b-4820-94f7-593983ae3151",
        "collapsed": true
      },
      "execution_count": null,
      "outputs": [
        {
          "output_type": "stream",
          "name": "stdout",
          "text": [
            "Adding 50 and 60: [11, 12, 13, 14, 50, 60]\n",
            "Removing 11 and 13: [12, 14, 50, 60]\n",
            "Sorting L in ascending order: [12, 14, 50, 60]\n",
            "13 not found in L\n",
            "Number of elements in L: 4\n",
            "Sum of all elements: 136\n",
            "Sum of all odd numbers: 0\n",
            "Sum of all even numbers: 136\n"
          ]
        }
      ]
    },
    {
      "cell_type": "markdown",
      "source": [
        "Q2. D is a dictionary defined as D= {1:5.6, 2:7.8, 3:6.6, 4:8.7, 5:7.7}.\n",
        "\n",
        "(i) WAP to add new entry in D; key=8 and value is 8.8\n",
        "\n",
        "(ii) WAP to remove key=2.\n",
        "\n",
        "(iii) WAP to check weather 6 key is present in D.\n",
        "\n",
        "(iv) WAP to count the number of elements present in D.\n",
        "\n",
        "(v) WAP to add all the values present D.\n",
        "\n",
        "(vi) WAP to update the value of 3 to 7.1.\n",
        "\n",
        "(vii) WAP to clear the dictionary."
      ],
      "metadata": {
        "id": "2xLDuddcS0Pt"
      }
    },
    {
      "cell_type": "markdown",
      "source": [],
      "metadata": {
        "id": "cVqYlMo-S2a9"
      }
    },
    {
      "cell_type": "code",
      "source": [
        "D = {1:5.6, 2:7.8, 3:6.6, 4:8.7, 5:7.7}\n",
        "\n",
        "# (i) Add key 8 with value 8.8\n",
        "D[8] = 8.8\n",
        "print(\"(i) After adding key 8:\", D)\n",
        "\n",
        "# (ii) Remove key 2\n",
        "if 2 in D:\n",
        "    del D[2]\n",
        "    print(\"(ii) After removing key 2:\", D)\n",
        "else:\n",
        "    print(\"(ii) Key 2 not found in D.\")\n",
        "\n",
        "# (iii) Check if key 6 is present\n",
        "if 6 in D:\n",
        "    print(\"(iii) Key 6 is present in D.\")\n",
        "else:\n",
        "    print(\"(iii) Key 6 is not present in D.\")\n",
        "\n",
        "# (iv) Count number of elements\n",
        "count = len(D)\n",
        "print(\"(iv) Number of elements in D:\", count)\n",
        "\n",
        "# (v) Sum all values\n",
        "total = sum(D.values())\n",
        "print(\"(v) Sum of all values in D:\", total)\n",
        "\n",
        "# (vi) Update value of key 3 to 7.1\n",
        "if 3 in D:\n",
        "    D[3] = 7.1\n",
        "    print(\"(vi) After updating key 3:\", D)\n",
        "else:\n",
        "    print(\"(vi) Key 3 not found in D.\")\n",
        "\n",
        "# (vii) Clear the dictionary\n",
        "D.clear()\n",
        "print(\"(vii) After clearing D:\", D)"
      ],
      "metadata": {
        "colab": {
          "base_uri": "https://localhost:8080/"
        },
        "collapsed": true,
        "id": "fen0bIm8Tp51",
        "outputId": "5af233b4-fd34-4efb-90a5-d1e9dac71269"
      },
      "execution_count": null,
      "outputs": [
        {
          "output_type": "stream",
          "name": "stdout",
          "text": [
            "(i) After adding key 8: {1: 5.6, 2: 7.8, 3: 6.6, 4: 8.7, 5: 7.7, 8: 8.8}\n",
            "(ii) After removing key 2: {1: 5.6, 3: 6.6, 4: 8.7, 5: 7.7, 8: 8.8}\n",
            "(iii) Key 6 is not present in D.\n",
            "(iv) Number of elements in D: 5\n",
            "(v) Sum of all values in D: 37.4\n",
            "(vi) After updating key 3: {1: 5.6, 3: 7.1, 4: 8.7, 5: 7.7, 8: 8.8}\n",
            "(vii) After clearing D: {}\n"
          ]
        }
      ]
    },
    {
      "cell_type": "markdown",
      "source": [
        "Q3. S1 is a set defined as S1= [10, 20, 30, 40, 50, 60].\n",
        "S2 is a set defined as S2= [40, 50, 60, 70, 80, 90].\n",
        "\n",
        "(i) WAP to add 55 and 66 in Set S1.\n",
        "\n",
        "(ii) WAP to remove 10 and 30 from Set S1.\n",
        "\n",
        "(iii) WAP to check whether 40 is present in S1.\n",
        "\n",
        "(iv) WAP to find the union between S1 and S2.\n",
        "\n",
        "(v) WAP to find the intersection        between S1 and S2.\n",
        "\n",
        "(vi) WAP to find the S1 - S2."
      ],
      "metadata": {
        "id": "8k9K-WM0UjnH"
      }
    },
    {
      "cell_type": "code",
      "source": [
        "# Initialize sets\n",
        "S1 = {10, 20, 30, 40, 50, 60}\n",
        "S2 = {40, 50, 60, 70, 80, 90}\n",
        "\n",
        "print(\"Original S1:\", S1)\n",
        "print(\"Original S2:\", S2)\n",
        "\n",
        "# (i) Add 55 and 66 to S1\n",
        "S1.add(55)\n",
        "S1.add(66)\n",
        "print(\"\\n(i) S1 after adding 55 and 66:\", S1)\n",
        "\n",
        "# (ii) Remove 10 and 30 from S1\n",
        "S1.remove(10)\n",
        "S1.remove(30)\n",
        "print(\"(ii) S1 after removing 10 and 30:\", S1)\n",
        "\n",
        "# (iii) Check if 40 is in S1\n",
        "print(\"(iii) 40 presence in S1:\", 40 in S1)\n",
        "\n",
        "# (iv) Union of S1 and S2\n",
        "print(\"(iv) Union of S1 and S2:\", S1.union(S2))\n",
        "\n",
        "# (v) Intersection of S1 and S2\n",
        "print(\"(v) Intersection of S1 and S2:\", S1.intersection(S2))\n",
        "\n",
        "# (vi) Difference S1 - S2\n",
        "print(\"(vi) Difference S1 - S2:\", S1.difference(S2))"
      ],
      "metadata": {
        "colab": {
          "base_uri": "https://localhost:8080/"
        },
        "collapsed": true,
        "id": "gGCCMYkdU4q0",
        "outputId": "7f69f27d-ebec-4797-ea00-a66a25bb353c"
      },
      "execution_count": null,
      "outputs": [
        {
          "output_type": "stream",
          "name": "stdout",
          "text": [
            "Original S1: {50, 20, 40, 10, 60, 30}\n",
            "Original S2: {80, 50, 70, 40, 90, 60}\n",
            "\n",
            "(i) S1 after adding 55 and 66: {50, 66, 20, 55, 40, 10, 60, 30}\n",
            "(ii) S1 after removing 10 and 30: {50, 66, 20, 55, 40, 60}\n",
            "(iii) 40 presence in S1: True\n",
            "(iv) Union of S1 and S2: {66, 70, 40, 80, 50, 20, 55, 90, 60}\n",
            "(v) Intersection of S1 and S2: {40, 50, 60}\n",
            "(vi) Difference S1 - S2: {66, 20, 55}\n"
          ]
        }
      ]
    },
    {
      "cell_type": "markdown",
      "source": [
        "Q4. Write the following program.\n",
        "(i) WAP to print 100 random strings whose length between 6 and 8.\n",
        "\n",
        "(ii) WAP to print all prime numbers between 600 and 800.\n",
        "\n",
        "(iii) WAP to print all numbers between 100 and 1000 that are divisible by 7 and 9."
      ],
      "metadata": {
        "id": "3SKba9SpVTF0"
      }
    },
    {
      "cell_type": "code",
      "source": [
        "import random\n",
        "import string\n",
        "\n",
        "# (i) Print 100 random strings (length between 6 and 8)\n",
        "print(\"\\n=== 100 Random Strings (Length 6-8) ===\")\n",
        "def generate_random_string(length):\n",
        "    return ''.join(random.choice(string.ascii_letters) for _ in range(length))\n",
        "\n",
        "for _ in range(100):\n",
        "    length = random.randint(6, 8)\n",
        "    print(generate_random_string(length))\n",
        "\n",
        "# (ii) Print all prime numbers between 600 and 800\n",
        "print(\"\\n=== Prime Numbers Between 600-800 ===\")\n",
        "def is_prime(n):\n",
        "    if n <= 1:\n",
        "        return False\n",
        "    for i in range(2, int(n**0.5) + 1):\n",
        "        if n % i == 0:\n",
        "            return False\n",
        "    return True\n",
        "\n",
        "for num in range(600, 801):\n",
        "    if is_prime(num):\n",
        "        print(num)\n",
        "\n",
        "# (iii) Print numbers between 100-1000 divisible by both 7 and 9\n",
        "print(\"\\n=== Numbers Between 100-1000 Divisible by 7 and 9 ===\")\n",
        "# More efficient method using LCM (63)\n",
        "start = 100\n",
        "end = 1000\n",
        "first_num = ((start + 62) // 63) * 63  # Find first multiple of 63 >=100\n",
        "\n",
        "for num in range(first_num, end + 1, 63):\n",
        "    print(num)"
      ],
      "metadata": {
        "colab": {
          "base_uri": "https://localhost:8080/"
        },
        "collapsed": true,
        "id": "VsGfQaA9VY38",
        "outputId": "a1a0a430-57b2-4fe7-d71a-6348e55c42ff"
      },
      "execution_count": null,
      "outputs": [
        {
          "output_type": "stream",
          "name": "stdout",
          "text": [
            "\n",
            "=== 100 Random Strings (Length 6-8) ===\n",
            "SwAAPV\n",
            "EHkGxNC\n",
            "fZMKLYoF\n",
            "mSZCgPG\n",
            "VFdkIIbr\n",
            "NmOEGx\n",
            "QdILSKaE\n",
            "YdYidB\n",
            "BMpidwU\n",
            "IquoppNx\n",
            "FtzsVNU\n",
            "dByiNSU\n",
            "WGqStq\n",
            "pVyEsw\n",
            "aCcOhkhq\n",
            "OxZlYtGd\n",
            "hinEjzBr\n",
            "aDslPes\n",
            "IZwJCPeP\n",
            "iFgFtU\n",
            "rxMXxC\n",
            "CTfxCCCF\n",
            "vJQFGSh\n",
            "XuhBmn\n",
            "WhysFaG\n",
            "xbUAlAU\n",
            "HBGFXMtv\n",
            "deGBCtL\n",
            "XurxpJSh\n",
            "DuGNRsG\n",
            "VxzfEo\n",
            "aqgLago\n",
            "GlGgzK\n",
            "iJDCap\n",
            "uyInUqV\n",
            "FTKjnsS\n",
            "YkZBVqNW\n",
            "fbVIuic\n",
            "EHePtjI\n",
            "XTCHrRDa\n",
            "unTaRpg\n",
            "VCUmUn\n",
            "IrUBtqF\n",
            "bpPPVr\n",
            "YHQTSMQ\n",
            "WVULpI\n",
            "mGuNLP\n",
            "ekGOTI\n",
            "lJHvYJHz\n",
            "GcdsGU\n",
            "KwrHgQBn\n",
            "WUSZRx\n",
            "bMBnQdS\n",
            "qeDVCIcT\n",
            "CxalOye\n",
            "YMTaDPek\n",
            "FDmIeJX\n",
            "CgChMZM\n",
            "KVGVIF\n",
            "HJRTGIQc\n",
            "DKssJOD\n",
            "AsBnGDbu\n",
            "lBfPDW\n",
            "rPjhZUtT\n",
            "CUNQLsOs\n",
            "DPfIVMZ\n",
            "tBiBEKh\n",
            "xxHfAWRo\n",
            "FcOaixsp\n",
            "NIIlfQV\n",
            "necqFmZ\n",
            "jeMSFt\n",
            "kkUkjsD\n",
            "nOwXIVWJ\n",
            "zrDjAla\n",
            "YRUxUqyk\n",
            "pIgceU\n",
            "pjHGAwzV\n",
            "VdihIfE\n",
            "KvzxTF\n",
            "IrPHgdOS\n",
            "QVnfejY\n",
            "uhtAZTtA\n",
            "HBNFTs\n",
            "dgwiYRr\n",
            "dXNyCdJR\n",
            "yuzVjmDV\n",
            "vJaAKbf\n",
            "fRnILJ\n",
            "UuxXlf\n",
            "GpLVOW\n",
            "KVFlgi\n",
            "QvSocoES\n",
            "zSdPZTll\n",
            "BbDQMY\n",
            "cNRbVu\n",
            "qqpLkjPf\n",
            "MVHftZ\n",
            "JVNdXEy\n",
            "WqIFRQr\n",
            "\n",
            "=== Prime Numbers Between 600-800 ===\n",
            "601\n",
            "607\n",
            "613\n",
            "617\n",
            "619\n",
            "631\n",
            "641\n",
            "643\n",
            "647\n",
            "653\n",
            "659\n",
            "661\n",
            "673\n",
            "677\n",
            "683\n",
            "691\n",
            "701\n",
            "709\n",
            "719\n",
            "727\n",
            "733\n",
            "739\n",
            "743\n",
            "751\n",
            "757\n",
            "761\n",
            "769\n",
            "773\n",
            "787\n",
            "797\n",
            "\n",
            "=== Numbers Between 100-1000 Divisible by 7 and 9 ===\n",
            "126\n",
            "189\n",
            "252\n",
            "315\n",
            "378\n",
            "441\n",
            "504\n",
            "567\n",
            "630\n",
            "693\n",
            "756\n",
            "819\n",
            "882\n",
            "945\n"
          ]
        }
      ]
    },
    {
      "cell_type": "markdown",
      "source": [
        "Q5. WAP to create two lists of 10 random numbers between 10 and 30; Find  \n",
        "\n",
        "(i) Common numbers in the two lists\n",
        "\n",
        "(ii) Unique numbers in both the list\n",
        "\n",
        "(iii) Minimum in both the list\n",
        "\n",
        "(iv) Maximum in both the list\n",
        "\n",
        "(v) Sum of both the lists"
      ],
      "metadata": {
        "id": "aoKJ1ucZV3kk"
      }
    },
    {
      "cell_type": "code",
      "source": [
        "import random\n",
        "\n",
        "# Generate two lists of 10 random numbers between 10 and 30\n",
        "list1 = [random.randint(10, 30) for _ in range(10)]\n",
        "list2 = [random.randint(10, 30) for _ in range(10)]\n",
        "\n",
        "print(\"List 1:\", list1)\n",
        "print(\"List 2:\", list2)\n",
        "\n",
        "# (i) Common numbers in the two lists\n",
        "common = list(set(list1) & set(list2))\n",
        "print(\"\\n(i) Common numbers:\", common)\n",
        "\n",
        "# (ii) Unique numbers in both lists\n",
        "unique = list(set(list1) ^ set(list2))\n",
        "print(\"(ii) Unique numbers:\", unique)\n",
        "\n",
        "# (iii) Minimum in both lists\n",
        "min_list1 = min(list1)\n",
        "min_list2 = min(list2)\n",
        "print(\"(iii) Minimum:\")\n",
        "print(\"  - In List 1:\", min_list1)\n",
        "print(\"  - In List 2:\", min_list2)\n",
        "\n",
        "# (iv) Maximum in both lists\n",
        "max_list1 = max(list1)\n",
        "max_list2 = max(list2)\n",
        "print(\"(iv) Maximum:\")\n",
        "print(\"  - In List 1:\", max_list1)\n",
        "print(\"  - In List 2:\", max_list2)\n",
        "\n",
        "# (v) Sum of both lists\n",
        "sum_list1 = sum(list1)\n",
        "sum_list2 = sum(list2)\n",
        "print(\"(v) Sum:\")\n",
        "print(\"  - Of List 1:\", sum_list1)\n",
        "print(\"  - Of List 2:\", sum_list2)"
      ],
      "metadata": {
        "colab": {
          "base_uri": "https://localhost:8080/"
        },
        "collapsed": true,
        "id": "suNKIlG8WXRn",
        "outputId": "b3bc807c-b361-42d6-939d-8bbe0d160300"
      },
      "execution_count": null,
      "outputs": [
        {
          "output_type": "stream",
          "name": "stdout",
          "text": [
            "List 1: [10, 29, 18, 20, 18, 21, 14, 25, 26, 19]\n",
            "List 2: [29, 15, 25, 10, 20, 17, 26, 12, 11, 19]\n",
            "\n",
            "(i) Common numbers: [10, 19, 20, 25, 26, 29]\n",
            "(ii) Unique numbers: [11, 12, 14, 15, 17, 18, 21]\n",
            "(iii) Minimum:\n",
            "  - In List 1: 10\n",
            "  - In List 2: 10\n",
            "(iv) Maximum:\n",
            "  - In List 1: 29\n",
            "  - In List 2: 29\n",
            "(v) Sum:\n",
            "  - Of List 1: 200\n",
            "  - Of List 2: 184\n"
          ]
        }
      ]
    },
    {
      "cell_type": "markdown",
      "source": [
        "Q6. WAP to create a list of 100 random numbers between 100 and 900. Count and print the:\n",
        "\n",
        "(i) All odd numbers\n",
        "\n",
        "(ii) All even numbers\n",
        "\n",
        "(iii) All prime numbers\n"
      ],
      "metadata": {
        "id": "IOteG3ygWi4k"
      }
    },
    {
      "cell_type": "code",
      "source": [
        "import random\n",
        "\n",
        "# Function to check if a number is prime\n",
        "def is_prime(n):\n",
        "    if n <= 1:\n",
        "        return False\n",
        "    if n == 2:\n",
        "        return True\n",
        "    if n % 2 == 0:\n",
        "        return False\n",
        "    for i in range(3, int(n**0.5) + 1, 2):\n",
        "        if n % i == 0:\n",
        "            return False\n",
        "    return True\n",
        "\n",
        "# Generate list of 100 random numbers between 100 and 900\n",
        "numbers = [random.randint(100, 900) for _ in range(100)]\n",
        "\n",
        "# (i) Count and print all odd numbers\n",
        "odd_numbers = [num for num in numbers if num % 2 != 0]\n",
        "print(f\"(i) Odd numbers count: {len(odd_numbers)}\")\n",
        "print(\"Sample odd numbers:\", odd_numbers[:10])  # Print first 10 for example\n",
        "\n",
        "# (ii) Count and print all even numbers\n",
        "even_numbers = [num for num in numbers if num % 2 == 0]\n",
        "print(f\"\\n(ii) Even numbers count: {len(even_numbers)}\")\n",
        "print(\"Sample even numbers:\", even_numbers[:10])  # Print first 10 for example\n",
        "\n",
        "# (iii) Count and print all prime numbers\n",
        "prime_numbers = [num for num in numbers if is_prime(num)]\n",
        "print(f\"\\n(iii) Prime numbers count: {len(prime_numbers)}\")\n",
        "print(\"Prime numbers:\", prime_numbers)"
      ],
      "metadata": {
        "colab": {
          "base_uri": "https://localhost:8080/"
        },
        "id": "VtZEB2_EXTAk",
        "outputId": "e42a852b-f8c8-4ec9-d0eb-f7398196f378",
        "collapsed": true
      },
      "execution_count": null,
      "outputs": [
        {
          "output_type": "stream",
          "name": "stdout",
          "text": [
            "(i) Odd numbers count: 53\n",
            "Sample odd numbers: [347, 703, 123, 893, 173, 559, 175, 391, 629, 601]\n",
            "\n",
            "(ii) Even numbers count: 47\n",
            "Sample even numbers: [748, 488, 674, 394, 740, 114, 614, 828, 230, 112]\n",
            "\n",
            "(iii) Prime numbers count: 17\n",
            "Prime numbers: [347, 173, 601, 463, 617, 463, 619, 251, 719, 853, 389, 647, 149, 331, 647, 263, 191]\n"
          ]
        }
      ]
    },
    {
      "cell_type": "markdown",
      "source": [
        "Q7. D is a dictionary defined as D={1:\"One\",2:\"Two\",3:\"Three\",4:\"Four\", 5:\"Five\"}.  \n",
        "\n",
        "WAP to read all the keys and values from dictionary and write to the file in the given below format.\n",
        "\n",
        "Key1, Value1\n",
        "\n",
        "Key2, Value2\n",
        "\n",
        "Key3, Value3"
      ],
      "metadata": {
        "id": "hVRZJGAdYWdu"
      }
    },
    {
      "cell_type": "code",
      "source": [
        "D = {1:\"One\", 2:\"Two\", 3:\"Three\", 4:\"Four\", 5:\"Five\"}\n",
        "\n",
        "# Open a file named 'dictionary_output.txt' in write mode\n",
        "with open('dictionary_output.txt', 'w') as file:\n",
        "    # Iterate through each key-value pair in the dictionary\n",
        "    for key, value in D.items():\n",
        "        # Write each pair in the format \"Key, Value\" followed by a newline\n",
        "        file.write(f\"{key}, {value}\\n\")\n",
        "\n",
        "print(\"Data has been written to dictionary_output.txt\")"
      ],
      "metadata": {
        "colab": {
          "base_uri": "https://localhost:8080/"
        },
        "id": "sWHtuXuuYkBF",
        "outputId": "845b6adb-0feb-4dee-95f3-6724617428a9",
        "collapsed": true
      },
      "execution_count": null,
      "outputs": [
        {
          "output_type": "stream",
          "name": "stdout",
          "text": [
            "Data has been written to dictionary_output.txt\n"
          ]
        }
      ]
    },
    {
      "cell_type": "markdown",
      "source": [
        "Q8. L is a list defined as L={\"One\",\"Two\",\"Three\",\"Four\",\"Five\"}.\n",
        "\n",
        "WAP to count the length of reach element from a list and write to the file in the given below format:\n",
        "\n",
        "One, 3\n",
        "\n",
        "Two, 3\n",
        "\n",
        "Four, 4"
      ],
      "metadata": {
        "id": "kcIuc9jeaust"
      }
    },
    {
      "cell_type": "code",
      "source": [
        "L = [\"One\", \"Two\", \"Three\", \"Four\", \"Five\"]\n",
        "\n",
        "# Open a file in write mode\n",
        "with open('word_lengths.txt', 'w') as file:\n",
        "    # Iterate through each word in the list\n",
        "    for word in L:\n",
        "        # Write the word and its length separated by comma\n",
        "        file.write(f\"{word}, {len(word)}\\n\")\n",
        "\n",
        "print(\"Output has been written to word_lengths.txt\")"
      ],
      "metadata": {
        "colab": {
          "base_uri": "https://localhost:8080/"
        },
        "id": "i_TvnOShazLV",
        "outputId": "7193a998-933e-477f-de80-eb78fda0f8df",
        "collapsed": true
      },
      "execution_count": null,
      "outputs": [
        {
          "output_type": "stream",
          "name": "stdout",
          "text": [
            "Output has been written to word_lengths.txt\n"
          ]
        }
      ]
    },
    {
      "cell_type": "markdown",
      "source": [
        "Q9. Write to the file 100 random strings whose length between 10 and 15"
      ],
      "metadata": {
        "id": "wUZt3WWybAgs"
      }
    },
    {
      "cell_type": "code",
      "source": [
        "import random\n",
        "import string\n",
        "\n",
        "# Function to generate random string of specific length\n",
        "def generate_random_string(length):\n",
        "    characters = string.ascii_letters + string.digits  # Letters and numbers\n",
        "    return ''.join(random.choice(characters) for _ in range(length))\n",
        "\n",
        "# Generate and write 100 random strings to file\n",
        "with open('random_strings.txt', 'w') as file:\n",
        "    for _ in range(100):\n",
        "        length = random.randint(10, 15)  # Random length between 10 and 15\n",
        "        random_string = generate_random_string(length)\n",
        "        file.write(random_string + '\\n')  # Write each string on new line\n",
        "\n",
        "print(\"100 random strings have been written to random_strings.txt\")"
      ],
      "metadata": {
        "colab": {
          "base_uri": "https://localhost:8080/"
        },
        "id": "ABgpTE7_bE58",
        "outputId": "9e7f0b2f-e3f5-4042-9a1b-7539d9c8b75a",
        "collapsed": true
      },
      "execution_count": null,
      "outputs": [
        {
          "output_type": "stream",
          "name": "stdout",
          "text": [
            "100 random strings have been written to random_strings.txt\n"
          ]
        }
      ]
    },
    {
      "cell_type": "markdown",
      "source": [
        "Q10. Write to the file all prime numbers between 600 and 800"
      ],
      "metadata": {
        "id": "j8kX5dy-bO8f"
      }
    },
    {
      "cell_type": "code",
      "source": [
        "def is_prime(n):\n",
        "    \"\"\"Check if a number is prime\"\"\"\n",
        "    if n <= 1:\n",
        "        return False\n",
        "    if n == 2:\n",
        "        return True\n",
        "    if n % 2 == 0:\n",
        "        return False\n",
        "    for i in range(3, int(n**0.5) + 1, 2):\n",
        "        if n % i == 0:\n",
        "            return False\n",
        "    return True\n",
        "\n",
        "# Find and write prime numbers between 600 and 800\n",
        "with open('prime_numbers_600_to_800.txt', 'w') as file:\n",
        "    for num in range(600, 801):  # 800 is inclusive\n",
        "        if is_prime(num):\n",
        "            file.write(f\"{num}\\n\")  # Write each prime on a new line\n",
        "\n",
        "print(\"Prime numbers between 600 and 800 have been written to prime_numbers_600_to_800.txt\")"
      ],
      "metadata": {
        "colab": {
          "base_uri": "https://localhost:8080/"
        },
        "id": "NqMypZhgbRwV",
        "outputId": "226d1acf-3806-41f1-de81-f29edfe1f1ed",
        "collapsed": true
      },
      "execution_count": null,
      "outputs": [
        {
          "output_type": "stream",
          "name": "stdout",
          "text": [
            "Prime numbers between 600 and 800 have been written to prime_numbers_600_to_800.txt\n"
          ]
        }
      ]
    },
    {
      "cell_type": "markdown",
      "source": [
        "Q11. WAP to calculate the time taken by a program."
      ],
      "metadata": {
        "id": "SE0VmjBAbbn8"
      }
    },
    {
      "cell_type": "code",
      "source": [
        "import time\n",
        "\n",
        "start_time = time.time()\n",
        "\n",
        "# Example: Calculate sum of first 1 million numbers\n",
        "total = 0\n",
        "for i in range(1, 1000001):\n",
        "    total += i\n",
        "\n",
        "# Record the end time\n",
        "end_time = time.time()\n",
        "\n",
        "# Calculate execution time\n",
        "execution_time = end_time - start_time\n",
        "\n",
        "# Display the result\n",
        "print(f\"Program execution time: {execution_time:.4f} seconds\")"
      ],
      "metadata": {
        "colab": {
          "base_uri": "https://localhost:8080/"
        },
        "id": "UH08flyLboS8",
        "outputId": "7b80e59f-953a-4fbb-8cc7-23d49897ce08",
        "collapsed": true
      },
      "execution_count": null,
      "outputs": [
        {
          "output_type": "stream",
          "name": "stdout",
          "text": [
            "Program execution time: 0.1396 seconds\n"
          ]
        }
      ]
    },
    {
      "cell_type": "markdown",
      "source": [
        "![image.png](data:image/png;base64,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)"
      ],
      "metadata": {
        "id": "5GTwycL-b2l9"
      }
    },
    {
      "cell_type": "code",
      "source": [
        "import time\n",
        "import random\n",
        "import matplotlib.pyplot as plt\n",
        "\n",
        "def generate_random_list(size):\n",
        "    \"\"\"Generate a list of random integers\"\"\"\n",
        "    return [random.randint(1, 100000) for _ in range(size)]\n",
        "\n",
        "def measure_sort_time(data_size):\n",
        "    \"\"\"Measure time taken to sort a list of given size\"\"\"\n",
        "    data = generate_random_list(data_size)\n",
        "\n",
        "    start_time = time.time()\n",
        "    sorted_data = sorted(data)  # Using Python's built-in sorted()\n",
        "    end_time = time.time()\n",
        "\n",
        "    return end_time - start_time\n",
        "\n",
        "# List sizes to test\n",
        "sizes = [5000, 10000, 15000, 20000, 25000]\n",
        "time_taken = []\n",
        "\n",
        "# Measure sorting time for each size\n",
        "for size in sizes:\n",
        "    duration = measure_sort_time(size)\n",
        "    time_taken.append(duration)\n",
        "    print(f\"Sorted {size} elements in {duration:.4f} seconds\")\n",
        "\n",
        "# Create and display the table\n",
        "print(\"\\n| Number of elements | Time Taken |\")\n",
        "print(\"|-------------------|------------|\")\n",
        "for size, t in zip(sizes, time_taken):\n",
        "    print(f\"| {size:5}            | {t:.4f}    |\")\n",
        "\n",
        "# Plot the results\n",
        "plt.figure(figsize=(10, 5))\n",
        "plt.plot(sizes, time_taken, marker='o', linestyle='-', color='b')\n",
        "plt.title('Time Taken to Sort Lists of Different Sizes')\n",
        "plt.xlabel('Number of Elements')\n",
        "plt.ylabel('Time Taken (seconds)')\n",
        "plt.grid(True)\n",
        "\n",
        "# Annotate each point with its time value\n",
        "for i, txt in enumerate(time_taken):\n",
        "    plt.annotate(f\"{txt:.4f}s\", (sizes[i], time_taken[i]), textcoords=\"offset points\", xytext=(0,10), ha='center')\n",
        "\n",
        "plt.show()"
      ],
      "metadata": {
        "colab": {
          "base_uri": "https://localhost:8080/",
          "height": 722
        },
        "id": "j6JGC96ucDbP",
        "outputId": "6d6232ed-dbbb-4aa3-8993-5aa709055df2",
        "collapsed": true
      },
      "execution_count": null,
      "outputs": [
        {
          "output_type": "stream",
          "name": "stdout",
          "text": [
            "Sorted 5000 elements in 0.0008 seconds\n",
            "Sorted 10000 elements in 0.0017 seconds\n",
            "Sorted 15000 elements in 0.0029 seconds\n",
            "Sorted 20000 elements in 0.0043 seconds\n",
            "Sorted 25000 elements in 0.0049 seconds\n",
            "\n",
            "| Number of elements | Time Taken |\n",
            "|-------------------|------------|\n",
            "|  5000            | 0.0008    |\n",
            "| 10000            | 0.0017    |\n",
            "| 15000            | 0.0029    |\n",
            "| 20000            | 0.0043    |\n",
            "| 25000            | 0.0049    |\n"
          ]
        },
        {
          "output_type": "display_data",
          "data": {
            "text/plain": [
              "<Figure size 1000x500 with 1 Axes>"
            ],
            "image/png": "[encoded data removed]"
          },
          "metadata": {}
        }
      ]
    },
    {
      "cell_type": "markdown",
      "source": [
        "Q13. WAP to create a dictionary of student marks in five subjects and you have to find the student having maximum and minimum average marks"
      ],
      "metadata": {
        "id": "JOle7C8ucTnA"
      }
    },
    {
      "cell_type": "code",
      "source": [
        "# Create a dictionary of student marks\n",
        "student_marks = {\n",
        "    \"Alice\": [85, 90, 78, 92, 88],\n",
        "    \"Bob\": [72, 68, 75, 80, 65],\n",
        "    \"Charlie\": [90, 95, 92, 88, 94],\n",
        "    \"Diana\": [65, 70, 68, 72, 60],\n",
        "    \"Ethan\": [80, 85, 82, 78, 85]\n",
        "}\n",
        "\n",
        "# Calculate average marks for each student\n",
        "averages = {}\n",
        "for student, marks in student_marks.items():\n",
        "    averages[student] = sum(marks) / len(marks)\n",
        "\n",
        "# Find student with maximum average\n",
        "max_student = max(averages.items(), key=lambda x: x[1])\n",
        "# Find student with minimum average\n",
        "min_student = min(averages.items(), key=lambda x: x[1])\n",
        "\n",
        "# Display results\n",
        "print(\"Student Averages:\")\n",
        "for student, avg in averages.items():\n",
        "    print(f\"{student}: {avg:.2f}\")\n",
        "\n",
        "print(f\"\\nStudent with highest average: {max_student[0]} ({max_student[1]:.2f})\")\n",
        "print(f\"Student with lowest average: {min_student[0]} ({min_student[1]:.2f})\")"
      ],
      "metadata": {
        "colab": {
          "base_uri": "https://localhost:8080/"
        },
        "id": "ha0dIy3PcV_t",
        "outputId": "7ece1cd1-f45b-4e23-d7cb-c11519a27920",
        "collapsed": true
      },
      "execution_count": null,
      "outputs": [
        {
          "output_type": "stream",
          "name": "stdout",
          "text": [
            "Student Averages:\n",
            "Alice: 86.60\n",
            "Bob: 72.00\n",
            "Charlie: 91.80\n",
            "Diana: 67.00\n",
            "Ethan: 82.00\n",
            "\n",
            "Student with highest average: Charlie (91.80)\n",
            "Student with lowest average: Diana (67.00)\n"
          ]
        }
      ]
    }
  ]
}